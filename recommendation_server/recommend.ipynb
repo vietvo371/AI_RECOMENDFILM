{
 "cells": [
  {
   "cell_type": "markdown",
   "metadata": {},
   "source": [
    "# Hệ thống gợi ý phim sử dụng TF-IDF và Cosine Similarity"
   ]
  },
  {
   "cell_type": "markdown",
   "metadata": {},
   "source": [
    "### 1. KẾT NỐI CƠ SỞ DỮ LIỆU MYSQL"
   ]
  },
  {
   "cell_type": "code",
   "execution_count": 1,
   "metadata": {},
   "outputs": [],
   "source": [
    "# Import libraries\n",
    "import numpy as np\n",
    "import pandas as pd\n",
    "from sklearn.metrics.pairwise import cosine_similarity\n",
    "from sklearn.feature_extraction.text import CountVectorizer\n",
    "from sklearn.feature_extraction.text import TfidfVectorizer\n",
    "\n",
    "import mysql.connector\n",
    "\n",
    "# Database connection function\n",
    "def get_db_connection():\n",
    "    return mysql.connector.connect(\n",
    "        host=\"localhost\",\n",
    "        user=\"root\",\n",
    "        password=\"\",\n",
    "        database=\"csdl_phim\"\n",
    "    )\n",
    "\n",
    "# Load data from MySQL\n",
    "def load_movies_data():\n",
    "    conn = get_db_connection()\n",
    "    query = \"\"\"\n",
    "    SELECT \n",
    "        p.id, \n",
    "        p.ten_phim AS title, \n",
    "        MAX(p.mo_ta) AS description, \n",
    "        GROUP_CONCAT(DISTINCT tl.ten_the_loai SEPARATOR ' ') AS genres\n",
    "    FROM \n",
    "        phims p\n",
    "    LEFT JOIN \n",
    "        chi_tiet_the_loais ctl ON p.id = ctl.id_phim\n",
    "    LEFT JOIN \n",
    "        the_loais tl ON ctl.id_the_loai = tl.id\n",
    "    GROUP BY \n",
    "        p.id, p.ten_phim\n",
    "    \"\"\"\n",
    "    movies = pd.read_sql(query, conn)\n",
    "    conn.close()\n",
    "    return movies\n",
    "    \n"
   ]
  },
  {
   "cell_type": "markdown",
   "metadata": {},
   "source": [
    "### 2. Tạo ma trận đặc trưng cho phim"
   ]
  },
  {
   "cell_type": "code",
   "execution_count": 2,
   "metadata": {},
   "outputs": [],
   "source": [
    "\n",
    "def create_feature_matrix(movies_df):\n",
    "    # Kết hợp cột thể loại và mô tả phim thành một văn bản duy nhất\n",
    "    movies_df['combined_features'] = movies_df['genres'].fillna('') + ' ' + movies_df['description'].fillna('')\n",
    "    \n",
    "    # Khởi tạo TF-IDF Vectorizer\n",
    "    tfidf = TfidfVectorizer(\n",
    "        stop_words='english',  # Loại bỏ các từ không quan trọng trong tiếng Anh\n",
    "        ngram_range=(1, 2),    # Sử dụng cả unigram và bigram\n",
    "        min_df=2               # Bỏ qua các từ xuất hiện quá ít\n",
    "    )\n",
    "    \n",
    "    # Biến đổi văn bản thành ma trận vector TF-IDF\n",
    "    feature_matrix = tfidf.fit_transform(movies_df['combined_features'])\n",
    "    return feature_matrix\n"
   ]
  },
  {
   "cell_type": "markdown",
   "metadata": {},
   "source": [
    "### 3. Gợi ý phim dựa trên một bộ phim"
   ]
  },
  {
   "cell_type": "code",
   "execution_count": 3,
   "metadata": {},
   "outputs": [],
   "source": [
    "def get_recommendations(movie_id, feature_matrix, movies_df, n=5):\n",
    "    try:\n",
    "        # Tính ma trận độ tương đồng Cosine giữa các phim\n",
    "        similarity = cosine_similarity(feature_matrix)\n",
    "        \n",
    "        # Tìm vị trí (index) của bộ phim trong DataFrame\n",
    "        movie_idx = movies_df[movies_df['id'] == movie_id].index[0]\n",
    "        \n",
    "        # Lấy danh sách các điểm similarity với phim đầu vào\n",
    "        sim_scores = list(enumerate(similarity[movie_idx]))\n",
    "        \n",
    "        # Sắp xếp theo điểm similarity giảm dần (bỏ qua phim chính nó)\n",
    "        sim_scores = sorted(sim_scores, key=lambda x: x[1], reverse=True)[1:n+1]\n",
    "        \n",
    "        # Lấy danh sách các index phim được gợi ý\n",
    "        movie_indices = [i[0] for i in sim_scores] \n",
    "        \n",
    "        # Trả về danh sách phim được gợi ý\n",
    "        recommendations = movies_df.iloc[movie_indices][['id', 'title', 'genres']].to_dict('records')\n",
    "        \n",
    "        # Thêm điểm similarity vào kết quả\n",
    "        for idx, rec in enumerate(recommendations):\n",
    "            rec['similarity_score'] = float(sim_scores[idx][1])\n",
    "            \n",
    "        return recommendations\n",
    "        \n",
    "    except Exception as e:\n",
    "        print(f\"Error in get_recommendations: {str(e)}\")\n",
    "        return []\n",
    "\n"
   ]
  },
  {
   "cell_type": "markdown",
   "metadata": {},
   "source": [
    "### 4. Lấy danh sách phim người dùng đã xem gần đây"
   ]
  },
  {
   "cell_type": "code",
   "execution_count": 4,
   "metadata": {},
   "outputs": [],
   "source": [
    "def get_user_recently_watched(user_id, limit=5):\n",
    "    \"\"\"Lấy danh sách phim user đã xem gần đây\"\"\"\n",
    "    conn = get_db_connection()\n",
    "    query = \"\"\"\n",
    "        SELECT \n",
    "            p.id,\n",
    "            p.ten_phim AS title,\n",
    "            MAX(p.mo_ta) AS description,\n",
    "            GROUP_CONCAT(DISTINCT tl.ten_the_loai SEPARATOR ', ') AS genres,\n",
    "            lx.ngay_xem\n",
    "        FROM \n",
    "            luot_xems lx\n",
    "            JOIN phims p ON lx.id_phim = p.id\n",
    "            LEFT JOIN chi_tiet_the_loais ctl ON p.id = ctl.id_phim\n",
    "            LEFT JOIN the_loais tl ON ctl.id_the_loai = tl.id\n",
    "        WHERE \n",
    "            lx.id_khach_hang = %s\n",
    "            AND lx.ngay_xem >= DATE_SUB(NOW(), INTERVAL 30 DAY)\n",
    "        GROUP BY \n",
    "            p.id, p.ten_phim, lx.ngay_xem\n",
    "        ORDER BY \n",
    "            lx.ngay_xem DESC\n",
    "        LIMIT %s\n",
    "    \"\"\"\n",
    "    \n",
    "    recently_watched_df = pd.read_sql(query, conn, params=(user_id, limit))\n",
    "    conn.close()\n",
    "    return recently_watched_df\n",
    "\n"
   ]
  },
  {
   "cell_type": "markdown",
   "metadata": {},
   "source": [
    "### 5. Gợi ý phim dựa trên nhiều phim được xem gần đây"
   ]
  },
  {
   "cell_type": "code",
   "execution_count": 5,
   "metadata": {},
   "outputs": [],
   "source": [
    "\n",
    "def get_recommendations_from_multiple_movies(movie_ids, feature_matrix, movies_df, n=5):\n",
    "    \"\"\"Lấy recommendations dựa trên nhiều phim\"\"\"\n",
    "    try:\n",
    "        # Tính similarity matrix\n",
    "        similarity = cosine_similarity(feature_matrix)\n",
    "        \n",
    "        # Tạo vector lưu tổng điểm similarity của tất cả phim đầu vào\n",
    "        combined_scores = np.zeros(len(movies_df))\n",
    "        \n",
    "        for movie_id in movie_ids:\n",
    "            movie_idx = movies_df[movies_df['id'] == movie_id].index[0]\n",
    "            combined_scores += similarity[movie_idx]  # Cộng điểm similarity\n",
    "        \n",
    "        # Tính điểm similarity trung bình\n",
    "        combined_scores = combined_scores / len(movie_ids)\n",
    "        \n",
    "        # Tạo danh sách index và điểm similarity\n",
    "        sim_scores = list(enumerate(combined_scores))\n",
    "        \n",
    "        # Loại bỏ các phim đã xem\n",
    "        sim_scores = [s for s in sim_scores if movies_df.iloc[s[0]]['id'] not in movie_ids]\n",
    "        \n",
    "        # Sắp xếp theo điểm similarity giảm dần\n",
    "        sim_scores = sorted(sim_scores, key=lambda x: x[1], reverse=True)[:n]\n",
    "        \n",
    "        # Lấy danh sách phim được gợi ý\n",
    "        movie_indices = [i[0] for i in sim_scores]\n",
    "        recommendations = movies_df.iloc[movie_indices][['id', 'title', 'genres']].to_dict('records')\n",
    "        \n",
    "        # Thêm điểm similarity vào kết quả\n",
    "        for idx, rec in enumerate(recommendations):\n",
    "            rec['similarity_score'] = float(sim_scores[idx][1])\n",
    "            \n",
    "        return recommendations\n",
    "        \n",
    "    except Exception as e:\n",
    "        print(f\"Error in get_recommendations_from_multiple_movies: {str(e)}\")\n",
    "        return []\n"
   ]
  },
  {
   "cell_type": "markdown",
   "metadata": {},
   "source": [
    "# GỢI Ý PHIM TƯƠNG TỰ\n"
   ]
  },
  {
   "cell_type": "code",
   "execution_count": 6,
   "metadata": {},
   "outputs": [
    {
     "name": "stderr",
     "output_type": "stream",
     "text": [
      "C:\\Users\\VANVIET\\AppData\\Local\\Temp\\ipykernel_55312\\2413871904.py:37: UserWarning: pandas only supports SQLAlchemy connectable (engine/connection) or database string URI or sqlite3 DBAPI2 connection. Other DBAPI2 objects are not tested. Please consider using SQLAlchemy.\n",
      "  movies = pd.read_sql(query, conn)\n"
     ]
    },
    {
     "data": {
      "text/html": [
       "<div>\n",
       "<style scoped>\n",
       "    .dataframe tbody tr th:only-of-type {\n",
       "        vertical-align: middle;\n",
       "    }\n",
       "\n",
       "    .dataframe tbody tr th {\n",
       "        vertical-align: top;\n",
       "    }\n",
       "\n",
       "    .dataframe thead th {\n",
       "        text-align: right;\n",
       "    }\n",
       "</style>\n",
       "<table border=\"1\" class=\"dataframe\">\n",
       "  <thead>\n",
       "    <tr style=\"text-align: right;\">\n",
       "      <th></th>\n",
       "      <th>id</th>\n",
       "      <th>title</th>\n",
       "      <th>genres</th>\n",
       "      <th>similarity_score</th>\n",
       "    </tr>\n",
       "  </thead>\n",
       "  <tbody>\n",
       "    <tr>\n",
       "      <th>0</th>\n",
       "      <td>32</td>\n",
       "      <td>Trí Tuệ Tiềm Năng</td>\n",
       "      <td>Chính Kịch Hình Sự</td>\n",
       "      <td>0.220764</td>\n",
       "    </tr>\n",
       "    <tr>\n",
       "      <th>1</th>\n",
       "      <td>87</td>\n",
       "      <td>Bóng Đêm Bí Ẩn</td>\n",
       "      <td>Bí Ẩn</td>\n",
       "      <td>0.214047</td>\n",
       "    </tr>\n",
       "    <tr>\n",
       "      <th>2</th>\n",
       "      <td>125</td>\n",
       "      <td>Nhà Hàng Ma Quái</td>\n",
       "      <td>Kinh Dị</td>\n",
       "      <td>0.178517</td>\n",
       "    </tr>\n",
       "    <tr>\n",
       "      <th>3</th>\n",
       "      <td>40</td>\n",
       "      <td>Bắc Thượng</td>\n",
       "      <td>Chính Kịch</td>\n",
       "      <td>0.164269</td>\n",
       "    </tr>\n",
       "    <tr>\n",
       "      <th>4</th>\n",
       "      <td>65</td>\n",
       "      <td>Chuyến Bay Không Có Khiếu Nại</td>\n",
       "      <td>Chính Kịch</td>\n",
       "      <td>0.150746</td>\n",
       "    </tr>\n",
       "  </tbody>\n",
       "</table>\n",
       "</div>"
      ],
      "text/plain": [
       "    id                          title              genres  similarity_score\n",
       "0   32              Trí Tuệ Tiềm Năng  Chính Kịch Hình Sự          0.220764\n",
       "1   87                 Bóng Đêm Bí Ẩn               Bí Ẩn          0.214047\n",
       "2  125               Nhà Hàng Ma Quái             Kinh Dị          0.178517\n",
       "3   40                     Bắc Thượng          Chính Kịch          0.164269\n",
       "4   65  Chuyến Bay Không Có Khiếu Nại          Chính Kịch          0.150746"
      ]
     },
     "execution_count": 6,
     "metadata": {},
     "output_type": "execute_result"
    }
   ],
   "source": [
    "movie_id = 33\n",
    "movies_df = load_movies_data()\n",
    "feature_matrix = create_feature_matrix(movies_df)\n",
    "recommendations = get_recommendations(\n",
    "        movie_id=movie_id,\n",
    "        feature_matrix=feature_matrix,\n",
    "        movies_df=movies_df,\n",
    "        n=5\n",
    "    )\n",
    "# Chuyển recommendations thành DataFrame rồi xem\n",
    "recommendations_df = pd.DataFrame(recommendations)\n",
    "recommendations_df.head(5)"
   ]
  },
  {
   "cell_type": "markdown",
   "metadata": {},
   "source": [
    "# GỢI Ý PHIM DỰA TRÊN PHIM ĐÃ XEM GẦN ĐÂY\n"
   ]
  },
  {
   "cell_type": "code",
   "execution_count": 8,
   "metadata": {},
   "outputs": [
    {
     "name": "stderr",
     "output_type": "stream",
     "text": [
      "C:\\Users\\VANVIET\\AppData\\Local\\Temp\\ipykernel_55312\\3783155484.py:26: UserWarning: pandas only supports SQLAlchemy connectable (engine/connection) or database string URI or sqlite3 DBAPI2 connection. Other DBAPI2 objects are not tested. Please consider using SQLAlchemy.\n",
      "  recently_watched_df = pd.read_sql(query, conn, params=(user_id, limit))\n"
     ]
    },
    {
     "data": {
      "text/html": [
       "<div>\n",
       "<style scoped>\n",
       "    .dataframe tbody tr th:only-of-type {\n",
       "        vertical-align: middle;\n",
       "    }\n",
       "\n",
       "    .dataframe tbody tr th {\n",
       "        vertical-align: top;\n",
       "    }\n",
       "\n",
       "    .dataframe thead th {\n",
       "        text-align: right;\n",
       "    }\n",
       "</style>\n",
       "<table border=\"1\" class=\"dataframe\">\n",
       "  <thead>\n",
       "    <tr style=\"text-align: right;\">\n",
       "      <th></th>\n",
       "      <th>id</th>\n",
       "      <th>title</th>\n",
       "      <th>genres</th>\n",
       "      <th>similarity_score</th>\n",
       "    </tr>\n",
       "  </thead>\n",
       "  <tbody>\n",
       "    <tr>\n",
       "      <th>0</th>\n",
       "      <td>94</td>\n",
       "      <td>Trêu Nhầm Sắc Son</td>\n",
       "      <td>Chính Kịch</td>\n",
       "      <td>0.175567</td>\n",
       "    </tr>\n",
       "    <tr>\n",
       "      <th>1</th>\n",
       "      <td>24</td>\n",
       "      <td>Chu Công Phục Yêu</td>\n",
       "      <td>Hành Động</td>\n",
       "      <td>0.161050</td>\n",
       "    </tr>\n",
       "    <tr>\n",
       "      <th>2</th>\n",
       "      <td>41</td>\n",
       "      <td>Khi Cuộc Đời Cho Bạn Quả Quýt</td>\n",
       "      <td>Chính Kịch</td>\n",
       "      <td>0.156077</td>\n",
       "    </tr>\n",
       "    <tr>\n",
       "      <th>3</th>\n",
       "      <td>22</td>\n",
       "      <td>Ti Thừa Đại Nhân Thân Yêu</td>\n",
       "      <td>Chính Kịch</td>\n",
       "      <td>0.147979</td>\n",
       "    </tr>\n",
       "    <tr>\n",
       "      <th>4</th>\n",
       "      <td>68</td>\n",
       "      <td>Kiến Khanh Khanh</td>\n",
       "      <td>Chính Kịch</td>\n",
       "      <td>0.136598</td>\n",
       "    </tr>\n",
       "  </tbody>\n",
       "</table>\n",
       "</div>"
      ],
      "text/plain": [
       "   id                          title      genres  similarity_score\n",
       "0  94              Trêu Nhầm Sắc Son  Chính Kịch          0.175567\n",
       "1  24              Chu Công Phục Yêu   Hành Động          0.161050\n",
       "2  41  Khi Cuộc Đời Cho Bạn Quả Quýt  Chính Kịch          0.156077\n",
       "3  22      Ti Thừa Đại Nhân Thân Yêu  Chính Kịch          0.147979\n",
       "4  68               Kiến Khanh Khanh  Chính Kịch          0.136598"
      ]
     },
     "execution_count": 8,
     "metadata": {},
     "output_type": "execute_result"
    }
   ],
   "source": [
    "recently_watched = get_user_recently_watched(23)\n",
    "recent_movie_ids = recently_watched['id'].tolist()\n",
    "recommendations_watched = get_recommendations_from_multiple_movies(\n",
    "            movie_ids=recent_movie_ids,\n",
    "            feature_matrix=feature_matrix,\n",
    "            movies_df=movies_df,\n",
    "            n=5\n",
    "        )\n",
    "recommendations_watched = pd.DataFrame(recommendations_watched)\n",
    "recommendations_watched.head(5)"
   ]
  }
 ],
 "metadata": {
  "kernelspec": {
   "display_name": "Python 3",
   "language": "python",
   "name": "python3"
  },
  "language_info": {
   "codemirror_mode": {
    "name": "ipython",
    "version": 3
   },
   "file_extension": ".py",
   "mimetype": "text/x-python",
   "name": "python",
   "nbconvert_exporter": "python",
   "pygments_lexer": "ipython3",
   "version": "3.13.1"
  }
 },
 "nbformat": 4,
 "nbformat_minor": 2
}
